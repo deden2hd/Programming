{
  "nbformat": 4,
  "nbformat_minor": 0,
  "metadata": {
    "colab": {
      "provenance": [],
      "authorship_tag": "ABX9TyPgRomOuHNNRugxnFg2DcS1",
      "include_colab_link": true
    },
    "kernelspec": {
      "name": "python3",
      "display_name": "Python 3"
    },
    "language_info": {
      "name": "python"
    }
  },
  "cells": [
    {
      "cell_type": "markdown",
      "metadata": {
        "id": "view-in-github",
        "colab_type": "text"
      },
      "source": [
        "<a href=\"https://colab.research.google.com/github/deden2hd/Programming/blob/main/Hello%2C_Python!.ipynb\" target=\"_parent\"><img src=\"https://colab.research.google.com/assets/colab-badge.svg\" alt=\"Open In Colab\"/></a>"
      ]
    },
    {
      "cell_type": "markdown",
      "source": [
        "# Hello, Python!"
      ],
      "metadata": {
        "id": "rJzX8pu1JYhL"
      }
    },
    {
      "cell_type": "code",
      "execution_count": null,
      "metadata": {
        "id": "0SAny7szJVNL"
      },
      "outputs": [],
      "source": [
        "spam_amount = 0\n",
        "print(spam_amount)\n",
        "\n",
        "# komentar\n",
        "spam_amount = spam_amount + 4\n",
        "\n",
        "if spam_amount > 0:\n",
        "  print(\"But I don't ANY spam!\")\n",
        "\n",
        "viking_song = \"Spam \" * spam_amount\n",
        "print(viking_song)"
      ]
    },
    {
      "cell_type": "markdown",
      "source": [
        "## Penjelasan code\n",
        "\n",
        "Mari kita jelaskan satu persatu"
      ],
      "metadata": {
        "id": "_zs0W-0OLEgV"
      }
    },
    {
      "cell_type": "code",
      "source": [
        "spam_amount = 0"
      ],
      "metadata": {
        "id": "63ZRbDm7LV3E"
      },
      "execution_count": null,
      "outputs": []
    },
    {
      "cell_type": "markdown",
      "source": [
        "**Variable assignment**: Disini kita membuat variable bernama `spam_amount` dan menetapkan nilainya `0` dengan tanda `=`. Ini disebut Operator assignment"
      ],
      "metadata": {
        "id": "LHPhKeSHLbUe"
      }
    },
    {
      "cell_type": "code",
      "source": [
        "print(spam_amount)"
      ],
      "metadata": {
        "colab": {
          "base_uri": "https://localhost:8080/"
        },
        "id": "5nOxxCGZMCKn",
        "outputId": "f00e9b34-baa1-4785-e2cb-4bb4ecb7068f"
      },
      "execution_count": null,
      "outputs": [
        {
          "output_type": "stream",
          "name": "stdout",
          "text": [
            "0\n"
          ]
        }
      ]
    },
    {
      "cell_type": "markdown",
      "source": [
        "**Fuction calls**: `print` adalah fungsi dari python untuk menampilkan nilai yang diteruskan ke layar. Kita memanggil fungsi dengan memberi tanda kurung `()` setelah namanya `print` jadinya `print()`. Setelah itu mamasukkan *argumen* dalam tanda kurung tersebut. `(spam_amount)`.\n",
        "\n",
        "Hasil akhirnya : `print(spam_amount)`"
      ],
      "metadata": {
        "id": "ogIKu9lzMV2t"
      }
    },
    {
      "cell_type": "code",
      "source": [
        "# komentar\n",
        "spam_amount = spam_amount + 4"
      ],
      "metadata": {
        "id": "e96cjTaMgGTA"
      },
      "execution_count": null,
      "outputs": []
    },
    {
      "cell_type": "markdown",
      "source": [
        "Baris pertama itu adalah **Komentar** dalam python. Komentar diawali dengan tanda `#`\n",
        "\n",
        "Selanjutnya kita melihat contoh dari **reassignment**. Untuk merubah nilai pada variable itu sama saja seperti membuat variable. *(Kamu bisa melihat contoh diawal)*. Kita masih menggunakan tanda `=` assignment operator.\n",
        "\n",
        "Dalam kasus ini nilai yang kita berikan pada `spam_amount` melibatkan *aritmatika* sederhana. *python* mengevaluasi pada sisi kanan lalu memberikannya ke sisi kiri. `= 0 + 4` --> `spam_amount = 4`"
      ],
      "metadata": {
        "id": "VlSVKIaZg1OY"
      }
    },
    {
      "cell_type": "code",
      "source": [
        "if spam_amount > 0:\n",
        "    print(\"But I don't want ANY spam!\")\n",
        "\n",
        "viking_song = \"Spam \" * spam_amount\n",
        "print(viking_song)"
      ],
      "metadata": {
        "colab": {
          "base_uri": "https://localhost:8080/"
        },
        "id": "MczcdpY7iR-k",
        "outputId": "12ad4b66-493d-4b4a-d486-36248d318b58"
      },
      "execution_count": null,
      "outputs": [
        {
          "output_type": "stream",
          "name": "stdout",
          "text": [
            "But I don't want ANY spam!\n",
            "Spam Spam Spam\n"
          ]
        }
      ]
    },
    {
      "cell_type": "markdown",
      "source": [
        "### **Kondisi**\n",
        "pada baris 2 teratas ini disebut *conditional* kita akan membahas ini nanti. jika kamu penasaran seperti ini alurnya. kata kunci `if` itu digunakan untuk mengecek sebuah nilai. `spam_amount > 0` kita mengatur sebuah kondisi. ***Apakah nilai dari spam_amount lebih besar dari 0*** dan diakhiri dengan tanda `:`. dari kondisi tersebut akan dievaluasi jika **benar** maka perintah pada fungsi baris kedua akan tercetak `print(\"But I don't want ANY spam!\")`\n",
        "\n",
        "### **Operator ***\n",
        "pada variable `viking_song` kita mengatur sebuah nilai `\"spam \" * spam_amount`. operator `*` ini untuk perkalian. atau jika kamu belum mengerti ini seperti `\"spam \" x 4`. lalu dari evaluasi ini menghasilkan nilai seperti ini : `\"Spam Spam Spam Spam\"`. Benar jumlah `\"Spam \"` kita kalikan sebanyak 4x. hasil akhirnya menjadi : `viking_song = \"Spam Spam Spam Spam\"`.\n",
        "\n",
        "lalu"
      ],
      "metadata": {
        "id": "6MxsFvipjm_1"
      }
    },
    {
      "cell_type": "code",
      "source": [],
      "metadata": {
        "id": "wFpzvHvEjz9H"
      },
      "execution_count": null,
      "outputs": []
    }
  ]
}